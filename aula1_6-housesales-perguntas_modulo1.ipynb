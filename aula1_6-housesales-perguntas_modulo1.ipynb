{
 "cells": [
  {
   "cell_type": "markdown",
   "metadata": {},
   "source": [
    "Respondendo a perguntas iniciais de negócio"
   ]
  },
  {
   "cell_type": "code",
   "execution_count": null,
   "metadata": {},
   "outputs": [],
   "source": [
    "import pandas as pd\n",
    "\n",
    "house = pd.read_csv(\"datasets/kc_house_data.csv\")"
   ]
  },
  {
   "cell_type": "markdown",
   "metadata": {},
   "source": [
    "1 - Quantas casas estão disponiveis para compra?\n",
    "\n",
    "2 - Quantos atributos as casas possuem? \n",
    "\n",
    "3 - Quais são os atributos das casas?\n",
    "\n",
    "4 - Qual a casa mais cara? \n",
    "\n",
    "5 - Qual a casa com o maior número de quartos?\n",
    "\n",
    "6 - Qual a soma total de quartos do conjunto de dados? \n",
    "\n",
    "7 - Quantas casas possuem 2 banheiros? \n",
    "\n",
    "8 - Qual o preço médio de todas as casas do conjunto de dados? \n",
    "\n",
    "9 - Qual o preço médio de casas com 2 banheiros?\n",
    "\n",
    "10 - Qual o preço mínimo entre as casas com 3 quartos?\n",
    "\n",
    "11 - Quantas csas possuem mais de 300 metros quadrados na sala de estar?\n",
    "\n",
    "12 - Quantas casas tem mais de 2 andares?\n",
    "\n",
    "13 - Quantas casas tem vista para o mar? \n",
    "\n",
    "14 - Das casas com vista para o mar, quantas tem 3 quartos?\n",
    "\n",
    "15 - Das casas com mais de 300 metros quadrados de sala de estar, quantas tem mais de 2 banheiros?"
   ]
  },
  {
   "cell_type": "code",
   "execution_count": 46,
   "metadata": {},
   "outputs": [
    {
     "name": "stdout",
     "output_type": "stream",
     "text": [
      "1 - Quantas casas estão disponiveis para compra?\n",
      "R: 21436\n"
     ]
    }
   ],
   "source": [
    "print(\"1 - Quantas casas estão disponiveis para compra?\")\n",
    "cleanHouse = house['id'].nunique()\n",
    "print(\"R: \"+str(cleanHouse))"
   ]
  },
  {
   "cell_type": "code",
   "execution_count": 47,
   "metadata": {},
   "outputs": [
    {
     "name": "stdout",
     "output_type": "stream",
     "text": [
      "2 - Quantos atributos as casas possuem?\n",
      "R: 19\n"
     ]
    }
   ],
   "source": [
    "print(\"2 - Quantos atributos as casas possuem?\")\n",
    "print(\"R: \"+str(len(house.columns) - 2))"
   ]
  },
  {
   "cell_type": "code",
   "execution_count": 49,
   "metadata": {},
   "outputs": [
    {
     "name": "stdout",
     "output_type": "stream",
     "text": [
      "3 - Quais são os atributos das casas?\n"
     ]
    },
    {
     "data": {
      "text/plain": [
       "Index(['price', 'bedrooms', 'bathrooms', 'sqft_living', 'sqft_lot', 'floors',\n",
       "       'waterfront', 'view', 'condition', 'grade', 'sqft_above',\n",
       "       'sqft_basement', 'yr_built', 'yr_renovated', 'zipcode', 'lat', 'long',\n",
       "       'sqft_living15', 'sqft_lot15'],\n",
       "      dtype='object')"
      ]
     },
     "execution_count": 49,
     "metadata": {},
     "output_type": "execute_result"
    }
   ],
   "source": [
    "print(\"3 - Quais são os atributos das casas?\")\n",
    "dt = house.drop(['id', 'date'], axis = 1)\n",
    "dt.columns"
   ]
  },
  {
   "cell_type": "code",
   "execution_count": 50,
   "metadata": {},
   "outputs": [
    {
     "name": "stdout",
     "output_type": "stream",
     "text": [
      "4 - Qual a casa mais cara?\n"
     ]
    },
    {
     "data": {
      "text/plain": [
       "7129300520"
      ]
     },
     "execution_count": 50,
     "metadata": {},
     "output_type": "execute_result"
    }
   ],
   "source": [
    "print(\"4 - Qual a casa mais cara?\")\n",
    "house.sort_values('price', ascending=False).loc[0, 'id']"
   ]
  },
  {
   "cell_type": "code",
   "execution_count": 53,
   "metadata": {},
   "outputs": [
    {
     "name": "stdout",
     "output_type": "stream",
     "text": [
      "5 - Qual a casa com o maior número de quartos?\n"
     ]
    },
    {
     "data": {
      "text/plain": [
       "2402100895"
      ]
     },
     "execution_count": 53,
     "metadata": {},
     "output_type": "execute_result"
    }
   ],
   "source": [
    "print(\"5 - Qual a casa com o maior número de quartos?\")\n",
    "house[['id', 'bedrooms']].sort_values('bedrooms', ascending=False).iloc[0, 0]"
   ]
  },
  {
   "cell_type": "code",
   "execution_count": 54,
   "metadata": {},
   "outputs": [
    {
     "name": "stdout",
     "output_type": "stream",
     "text": [
      "6 - Qual a soma total de quartos do conjunto de dados?\n"
     ]
    },
    {
     "data": {
      "text/plain": [
       "72854"
      ]
     },
     "execution_count": 54,
     "metadata": {},
     "output_type": "execute_result"
    }
   ],
   "source": [
    "print(\"6 - Qual a soma total de quartos do conjunto de dados?\")\n",
    "house['bedrooms'].sum()"
   ]
  },
  {
   "cell_type": "code",
   "execution_count": 57,
   "metadata": {},
   "outputs": [
    {
     "name": "stdout",
     "output_type": "stream",
     "text": [
      "7 - Quantas casas possuem 2 banheiros? \n",
      "1930\n"
     ]
    }
   ],
   "source": [
    "print(\"7 - Quantas casas possuem 2 banheiros? \")\n",
    "df = house.loc[house['bathrooms'] == 2, :]\n",
    "print(len(df))"
   ]
  },
  {
   "cell_type": "code",
   "execution_count": 62,
   "metadata": {},
   "outputs": [
    {
     "name": "stdout",
     "output_type": "stream",
     "text": [
      "8 - Qual o preço médio de todas as casas do conjunto de dados? \n",
      "540088.1417665294\n"
     ]
    }
   ],
   "source": [
    "print(\"8 - Qual o preço médio de todas as casas do conjunto de dados? \")\n",
    "avg_price = house['price'].mean()\n",
    "print(avg_price)"
   ]
  },
  {
   "cell_type": "code",
   "execution_count": 63,
   "metadata": {},
   "outputs": [
    {
     "name": "stdout",
     "output_type": "stream",
     "text": [
      "9 - Qual o preço médio de casas com 2 banheiros?\n"
     ]
    },
    {
     "data": {
      "text/plain": [
       "457889.7186528497"
      ]
     },
     "execution_count": 63,
     "metadata": {},
     "output_type": "execute_result"
    }
   ],
   "source": [
    "print(\"9 - Qual o preço médio de casas com 2 banheiros?\")\n",
    "house.query(\"bathrooms == 2\")[\"price\"].mean()\n"
   ]
  },
  {
   "cell_type": "code",
   "execution_count": 31,
   "metadata": {},
   "outputs": [
    {
     "name": "stdout",
     "output_type": "stream",
     "text": [
      "10 - Qual o preço mínimo entre as casas com 3 quartos?\n"
     ]
    },
    {
     "data": {
      "text/plain": [
       "82000.0"
      ]
     },
     "execution_count": 31,
     "metadata": {},
     "output_type": "execute_result"
    }
   ],
   "source": [
    "print(\"10 - Qual o preço mínimo entre as casas com 3 quartos?\")\n",
    "house.query(\"bedrooms == 3\")[\"price\"].min()"
   ]
  },
  {
   "cell_type": "code",
   "execution_count": 39,
   "metadata": {},
   "outputs": [
    {
     "name": "stdout",
     "output_type": "stream",
     "text": [
      "11 - Quantas csas possuem mais de 300 metros quadrados na sala de estar?\n"
     ]
    },
    {
     "data": {
      "text/plain": [
       "21612"
      ]
     },
     "execution_count": 39,
     "metadata": {},
     "output_type": "execute_result"
    }
   ],
   "source": [
    "print(\"11 - Quantas csas possuem mais de 300 metros quadrados na sala de estar?\")\n",
    "house.loc[house['sqft_living'] > 300, 'id'].shape[0]"
   ]
  },
  {
   "cell_type": "code",
   "execution_count": 37,
   "metadata": {},
   "outputs": [
    {
     "name": "stdout",
     "output_type": "stream",
     "text": [
      "12 - Quantas casas tem mais de 2 andares?\n"
     ]
    },
    {
     "data": {
      "text/plain": [
       "782"
      ]
     },
     "execution_count": 37,
     "metadata": {},
     "output_type": "execute_result"
    }
   ],
   "source": [
    "print(\"12 - Quantas casas tem mais de 2 andares?\")\n",
    "house.loc[house['floors'] > 2, 'id'].shape[0]"
   ]
  },
  {
   "cell_type": "code",
   "execution_count": 38,
   "metadata": {},
   "outputs": [
    {
     "name": "stdout",
     "output_type": "stream",
     "text": [
      "13 - Quantas casas tem vista para o mar?\n"
     ]
    },
    {
     "data": {
      "text/plain": [
       "163"
      ]
     },
     "execution_count": 38,
     "metadata": {},
     "output_type": "execute_result"
    }
   ],
   "source": [
    "print(\"13 - Quantas casas tem vista para o mar?\")\n",
    "house.loc[house['waterfront'] == 1, 'id'].shape[0]"
   ]
  },
  {
   "cell_type": "code",
   "execution_count": 41,
   "metadata": {},
   "outputs": [
    {
     "name": "stdout",
     "output_type": "stream",
     "text": [
      "14 - Das casas com vista para o mar, quantas tem 3 quartos?\n"
     ]
    },
    {
     "data": {
      "text/plain": [
       "64"
      ]
     },
     "execution_count": 41,
     "metadata": {},
     "output_type": "execute_result"
    }
   ],
   "source": [
    "print(\"14 - Das casas com vista para o mar, quantas tem 3 quartos?\")\n",
    "house.loc[(house['waterfront'] == 1) & (house['bedrooms'] == 3), 'id'].shape[0]"
   ]
  },
  {
   "cell_type": "markdown",
   "metadata": {},
   "source": []
  }
 ],
 "metadata": {
  "kernelspec": {
   "display_name": "Python 3.10.5 64-bit",
   "language": "python",
   "name": "python3"
  },
  "language_info": {
   "codemirror_mode": {
    "name": "ipython",
    "version": 3
   },
   "file_extension": ".py",
   "mimetype": "text/x-python",
   "name": "python",
   "nbconvert_exporter": "python",
   "pygments_lexer": "ipython3",
   "version": "3.10.8"
  },
  "orig_nbformat": 4,
  "vscode": {
   "interpreter": {
    "hash": "21e38f573088bff287909bafd73bb598c409068f56013d3b6f521ed192e3e1ca"
   }
  }
 },
 "nbformat": 4,
 "nbformat_minor": 2
}
