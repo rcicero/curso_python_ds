{
 "cells": [
  {
   "cell_type": "markdown",
   "metadata": {},
   "source": [
    "Convertendo dados no pandas"
   ]
  },
  {
   "cell_type": "code",
   "execution_count": 3,
   "metadata": {},
   "outputs": [],
   "source": [
    "import pandas as pd\n",
    "from numpy import int64\n",
    "\n",
    "data = pd.read_csv(\"datasets/kc_house_data.csv\")"
   ]
  },
  {
   "cell_type": "markdown",
   "metadata": {},
   "source": [
    "Manipulando as variáveis:\n",
    "- Criar (colunas de variáveis e novas linhas)\n",
    "- Deletar (colunas de variáveis e novas linhas)\n",
    "- Selecionar:\n",
    "    - 4 formas de selecionar dados:\n",
    "        - Forma 01: Direto pelo nome da coluna;\n",
    "        - Forma 02: Pelo indice das colunas;\n",
    "        - Forma 03: Pelos indices das linhas e pelo nome das colunas;\n",
    "        - Forma 04: Pelos indices booleanos (True e False)"
   ]
  },
  {
   "cell_type": "code",
   "execution_count": 17,
   "metadata": {},
   "outputs": [
    {
     "name": "stdout",
     "output_type": "stream",
     "text": [
      "<bound method NDFrame.head of                id  nova_coluna_int  nova_coluna nova_coluna_data\n",
      "0      7129300520               90  nova_coluna       2022-10-21\n",
      "1      6414100192               90  nova_coluna       2022-10-21\n",
      "2      5631500400               90  nova_coluna       2022-10-21\n",
      "3      2487200875               90  nova_coluna       2022-10-21\n",
      "4      1954400510               90  nova_coluna       2022-10-21\n",
      "...           ...              ...          ...              ...\n",
      "21608   263000018               90  nova_coluna       2022-10-21\n",
      "21609  6600060120               90  nova_coluna       2022-10-21\n",
      "21610  1523300141               90  nova_coluna       2022-10-21\n",
      "21611   291310100               90  nova_coluna       2022-10-21\n",
      "21612  1523300157               90  nova_coluna       2022-10-21\n",
      "\n",
      "[21613 rows x 4 columns]>\n"
     ]
    }
   ],
   "source": [
    "\n",
    "# Criando novas Variáveis\n",
    "\n",
    "data['nova_coluna'] = 'nova_coluna'\n",
    "data['nova_coluna_int'] = 90\n",
    "data['nova_coluna_data'] = pd.to_datetime('2022-10-21')\n",
    "\n",
    "print(data[['id','nova_coluna_int', 'nova_coluna', 'nova_coluna_data']].head)"
   ]
  },
  {
   "cell_type": "code",
   "execution_count": 18,
   "metadata": {},
   "outputs": [
    {
     "name": "stdout",
     "output_type": "stream",
     "text": [
      "Index(['id', 'date', 'price', 'bedrooms', 'bathrooms', 'sqft_living',\n",
      "       'sqft_lot', 'floors', 'waterfront', 'view', 'condition', 'grade',\n",
      "       'sqft_above', 'sqft_basement', 'yr_built', 'yr_renovated', 'zipcode',\n",
      "       'lat', 'long', 'sqft_living15', 'sqft_lot15', 'nova_coluna_data',\n",
      "       'nova_coluna', 'nova_coluna_int'],\n",
      "      dtype='object')\n",
      "Index(['id', 'date', 'price', 'bedrooms', 'bathrooms', 'sqft_living',\n",
      "       'sqft_lot', 'floors', 'waterfront', 'view', 'condition', 'grade',\n",
      "       'sqft_above', 'sqft_basement', 'yr_built', 'yr_renovated', 'zipcode',\n",
      "       'lat', 'long', 'sqft_living15', 'sqft_lot15', 'nova_coluna_data',\n",
      "       'nova_coluna_int'],\n",
      "      dtype='object')\n"
     ]
    }
   ],
   "source": [
    "\n",
    "# Deletando Variáveis\n",
    "\n",
    "print(data.columns)\n",
    "# Axis define o sentido do drop (Linha ou Coluna)\n",
    "data = data.drop('nova_coluna', axis=1)\n",
    "print(data.columns)\n"
   ]
  },
  {
   "cell_type": "markdown",
   "metadata": {},
   "source": [
    "Selecionar Dados"
   ]
  },
  {
   "cell_type": "code",
   "execution_count": 21,
   "metadata": {},
   "outputs": [
    {
     "name": "stdout",
     "output_type": "stream",
     "text": [
      "          price          id  nova_coluna_int\n",
      "0      221900.0  7129300520               90\n",
      "1      538000.0  6414100192               90\n",
      "2      180000.0  5631500400               90\n",
      "3      604000.0  2487200875               90\n",
      "4      510000.0  1954400510               90\n",
      "...         ...         ...              ...\n",
      "21608  360000.0   263000018               90\n",
      "21609  400000.0  6600060120               90\n",
      "21610  402101.0  1523300141               90\n",
      "21611  400000.0   291310100               90\n",
      "21612  325000.0  1523300157               90\n",
      "\n",
      "[21613 rows x 3 columns]\n"
     ]
    }
   ],
   "source": [
    "# Forma 01: Direto pelo nome da coluna;\n",
    "\n",
    "cols = ['price', 'id', 'nova_coluna_int']\n",
    "print(data[cols])"
   ]
  },
  {
   "cell_type": "code",
   "execution_count": 25,
   "metadata": {},
   "outputs": [
    {
     "name": "stdout",
     "output_type": "stream",
     "text": [
      "           id             date      price\n",
      "0  7129300520  20141013T000000   221900.0\n",
      "1  6414100192  20141209T000000   538000.0\n",
      "2  5631500400  20150225T000000   180000.0\n",
      "3  2487200875  20141209T000000   604000.0\n",
      "4  1954400510  20150218T000000   510000.0\n",
      "5  7237550310  20140512T000000  1225000.0\n",
      "6  1321400060  20140627T000000   257500.0\n",
      "7  2008000270  20150115T000000   291850.0\n",
      "8  2414600126  20150415T000000   229500.0\n",
      "9  3793500160  20150312T000000   323000.0\n"
     ]
    }
   ],
   "source": [
    "\n",
    "# Forma 02: Pelo indice das colunas;\n",
    "# DADOS[linhas, colunas]\n",
    "print(data.iloc[0:10, 0:3])\n"
   ]
  },
  {
   "cell_type": "code",
   "execution_count": 28,
   "metadata": {},
   "outputs": [
    {
     "name": "stdout",
     "output_type": "stream",
     "text": [
      "            id      price\n",
      "0   7129300520   221900.0\n",
      "1   6414100192   538000.0\n",
      "2   5631500400   180000.0\n",
      "3   2487200875   604000.0\n",
      "4   1954400510   510000.0\n",
      "5   7237550310  1225000.0\n",
      "6   1321400060   257500.0\n",
      "7   2008000270   291850.0\n",
      "8   2414600126   229500.0\n",
      "9   3793500160   323000.0\n",
      "10  1736800520   662500.0\n"
     ]
    }
   ],
   "source": [
    "\n",
    "# Forma 03: Pelos indices das linhas e pelo nome das colunas;\n",
    "\n",
    "print(data.loc[0:10, ['id','price']])\n"
   ]
  },
  {
   "cell_type": "code",
   "execution_count": 31,
   "metadata": {},
   "outputs": [
    {
     "name": "stdout",
     "output_type": "stream",
     "text": [
      "Index(['id', 'date', 'price', 'bedrooms', 'bathrooms', 'sqft_living',\n",
      "       'sqft_lot', 'floors', 'waterfront', 'view', 'condition', 'grade',\n",
      "       'sqft_above', 'sqft_basement', 'yr_built', 'yr_renovated', 'zipcode',\n",
      "       'lat', 'long', 'sqft_living15', 'sqft_lot15', 'nova_coluna_data',\n",
      "       'nova_coluna_int'],\n",
      "      dtype='object')\n",
      "            id      price  bedrooms\n",
      "0   7129300520   221900.0         3\n",
      "1   6414100192   538000.0         3\n",
      "2   5631500400   180000.0         2\n",
      "3   2487200875   604000.0         4\n",
      "4   1954400510   510000.0         3\n",
      "5   7237550310  1225000.0         4\n",
      "6   1321400060   257500.0         3\n",
      "7   2008000270   291850.0         3\n",
      "8   2414600126   229500.0         3\n",
      "9   3793500160   323000.0         3\n",
      "10  1736800520   662500.0         3\n"
     ]
    }
   ],
   "source": [
    "# Forma 04: Pelos indices booleanos (True e False)\n",
    "# 1 ou 0\n",
    "\n",
    "#['id', 'date', 'price', 'bedrooms', 'bathrooms', 'sqft_living',\n",
    "#       'sqft_lot', 'floors', 'waterfront', 'view', 'condition', 'grade',\n",
    "#       'sqft_above', 'sqft_basement', 'yr_built', 'yr_renovated', 'zipcode',\n",
    "#       'lat', 'long', 'sqft_living15', 'sqft_lot15', 'nova_coluna_data',\n",
    "#       'nova_coluna_int']\n",
    "\n",
    "print(data.columns)\n",
    "\n",
    "cols = [True, False, True, True, False, False, False, False, False, False, False, False, False, False, False, False, False, False, False, False, False, False, False]\n",
    "print(data.loc[0:10, cols])"
   ]
  }
 ],
 "metadata": {
  "kernelspec": {
   "display_name": "Python 3.10.8 64-bit",
   "language": "python",
   "name": "python3"
  },
  "language_info": {
   "codemirror_mode": {
    "name": "ipython",
    "version": 3
   },
   "file_extension": ".py",
   "mimetype": "text/x-python",
   "name": "python",
   "nbconvert_exporter": "python",
   "pygments_lexer": "ipython3",
   "version": "3.10.8"
  },
  "orig_nbformat": 4,
  "vscode": {
   "interpreter": {
    "hash": "21e38f573088bff287909bafd73bb598c409068f56013d3b6f521ed192e3e1ca"
   }
  }
 },
 "nbformat": 4,
 "nbformat_minor": 2
}
