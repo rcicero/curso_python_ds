{
 "cells": [
  {
   "cell_type": "markdown",
   "metadata": {},
   "source": [
    "Convertendo dados no pandas"
   ]
  },
  {
   "cell_type": "code",
   "execution_count": 5,
   "metadata": {},
   "outputs": [],
   "source": [
    "import pandas as pd\n",
    "from numpy import int64\n",
    "\n",
    "data = pd.read_csv(\"datasets/kc_house_data.csv\")"
   ]
  },
  {
   "cell_type": "markdown",
   "metadata": {},
   "source": [
    "Como converter os tipos de variáveis?"
   ]
  },
  {
   "cell_type": "code",
   "execution_count": 6,
   "metadata": {},
   "outputs": [
    {
     "name": "stdout",
     "output_type": "stream",
     "text": [
      "           id       date     price  bedrooms  bathrooms  sqft_living  \\\n",
      "0  7129300520 2014-10-13  221900.0         3       1.00         1180   \n",
      "1  6414100192 2014-12-09  538000.0         3       2.25         2570   \n",
      "2  5631500400 2015-02-25  180000.0         2       1.00          770   \n",
      "3  2487200875 2014-12-09  604000.0         4       3.00         1960   \n",
      "4  1954400510 2015-02-18  510000.0         3       2.00         1680   \n",
      "\n",
      "   sqft_lot  floors  waterfront  view  ...  grade  sqft_above  sqft_basement  \\\n",
      "0      5650     1.0           0     0  ...      7        1180              0   \n",
      "1      7242     2.0           0     0  ...      7        2170            400   \n",
      "2     10000     1.0           0     0  ...      6         770              0   \n",
      "3      5000     1.0           0     0  ...      7        1050            910   \n",
      "4      8080     1.0           0     0  ...      8        1680              0   \n",
      "\n",
      "   yr_built  yr_renovated  zipcode      lat     long  sqft_living15  \\\n",
      "0      1955             0    98178  47.5112 -122.257           1340   \n",
      "1      1951          1991    98125  47.7210 -122.319           1690   \n",
      "2      1933             0    98028  47.7379 -122.233           2720   \n",
      "3      1965             0    98136  47.5208 -122.393           1360   \n",
      "4      1987             0    98074  47.6168 -122.045           1800   \n",
      "\n",
      "   sqft_lot15  \n",
      "0        5650  \n",
      "1        7639  \n",
      "2        8062  \n",
      "3        5000  \n",
      "4        7503  \n",
      "\n",
      "[5 rows x 21 columns]\n"
     ]
    }
   ],
   "source": [
    "\n",
    "# Converter de String para Data\n",
    "\n",
    "data['date'] = pd.to_datetime(data['date'])\n",
    "\n",
    "print(data.head())"
   ]
  },
  {
   "cell_type": "code",
   "execution_count": 7,
   "metadata": {},
   "outputs": [
    {
     "name": "stdout",
     "output_type": "stream",
     "text": [
      "id                        int64\n",
      "date             datetime64[ns]\n",
      "price                   float64\n",
      "bedrooms                float64\n",
      "bathrooms               float64\n",
      "sqft_living               int64\n",
      "sqft_lot                  int64\n",
      "floors                  float64\n",
      "waterfront                int64\n",
      "view                      int64\n",
      "condition                 int64\n",
      "grade                     int64\n",
      "sqft_above                int64\n",
      "sqft_basement             int64\n",
      "yr_built                  int64\n",
      "yr_renovated              int64\n",
      "zipcode                   int64\n",
      "lat                     float64\n",
      "long                    float64\n",
      "sqft_living15             int64\n",
      "sqft_lot15                int64\n",
      "dtype: object\n",
      "           id  bedrooms\n",
      "0  7129300520       3.0\n",
      "1  6414100192       3.0\n",
      "2  5631500400       2.0\n"
     ]
    }
   ],
   "source": [
    "# Converter de Inteiro para Float\n",
    "\n",
    "data['bedrooms'] = data['bedrooms'].astype(float)\n",
    "\n",
    "print(data.dtypes)\n",
    "print(data[['id', 'bedrooms']].head(3))"
   ]
  },
  {
   "cell_type": "code",
   "execution_count": 9,
   "metadata": {},
   "outputs": [
    {
     "name": "stdout",
     "output_type": "stream",
     "text": [
      "id                        int64\n",
      "date             datetime64[ns]\n",
      "price                   float64\n",
      "bedrooms                  int64\n",
      "bathrooms               float64\n",
      "sqft_living               int64\n",
      "sqft_lot                  int64\n",
      "floors                  float64\n",
      "waterfront                int64\n",
      "view                      int64\n",
      "condition                 int64\n",
      "grade                     int64\n",
      "sqft_above                int64\n",
      "sqft_basement             int64\n",
      "yr_built                  int64\n",
      "yr_renovated              int64\n",
      "zipcode                   int64\n",
      "lat                     float64\n",
      "long                    float64\n",
      "sqft_living15             int64\n",
      "sqft_lot15                int64\n",
      "dtype: object\n",
      "           id  bedrooms\n",
      "0  7129300520         3\n",
      "1  6414100192         3\n",
      "2  5631500400         2\n"
     ]
    }
   ],
   "source": [
    "# Converter de Float para Inteiro\n",
    "\n",
    "# Se for Windows vai converter para int32\n",
    "# data['bedrooms'] = data['bedrooms'].astype(int)\n",
    "\n",
    "# Obrigatório usar apenas um tipo de int na base de dados (int32 ou int64)\n",
    "data['bedrooms'] = data['bedrooms'].astype(int64)\n",
    "\n",
    "print(data.dtypes)\n",
    "print(data[['id', 'bedrooms']].head(3))\n",
    "\n",
    "\n"
   ]
  },
  {
   "cell_type": "code",
   "execution_count": 10,
   "metadata": {},
   "outputs": [
    {
     "name": "stdout",
     "output_type": "stream",
     "text": [
      "id                        int64\n",
      "date             datetime64[ns]\n",
      "price                   float64\n",
      "bedrooms                 object\n",
      "bathrooms               float64\n",
      "sqft_living               int64\n",
      "sqft_lot                  int64\n",
      "floors                  float64\n",
      "waterfront                int64\n",
      "view                      int64\n",
      "condition                 int64\n",
      "grade                     int64\n",
      "sqft_above                int64\n",
      "sqft_basement             int64\n",
      "yr_built                  int64\n",
      "yr_renovated              int64\n",
      "zipcode                   int64\n",
      "lat                     float64\n",
      "long                    float64\n",
      "sqft_living15             int64\n",
      "sqft_lot15                int64\n",
      "dtype: object\n",
      "           id bedrooms\n",
      "0  7129300520        3\n",
      "1  6414100192        3\n",
      "2  5631500400        2\n"
     ]
    }
   ],
   "source": [
    "# Converter de Inteiro para String\n",
    "\n",
    "data['bedrooms'] = data['bedrooms'].astype(str)\n",
    "\n",
    "print(data.dtypes)\n",
    "print(data[['id', 'bedrooms']].head(3))"
   ]
  },
  {
   "cell_type": "code",
   "execution_count": 11,
   "metadata": {},
   "outputs": [
    {
     "name": "stdout",
     "output_type": "stream",
     "text": [
      "id                        int64\n",
      "date             datetime64[ns]\n",
      "price                   float64\n",
      "bedrooms                  int64\n",
      "bathrooms               float64\n",
      "sqft_living               int64\n",
      "sqft_lot                  int64\n",
      "floors                  float64\n",
      "waterfront                int64\n",
      "view                      int64\n",
      "condition                 int64\n",
      "grade                     int64\n",
      "sqft_above                int64\n",
      "sqft_basement             int64\n",
      "yr_built                  int64\n",
      "yr_renovated              int64\n",
      "zipcode                   int64\n",
      "lat                     float64\n",
      "long                    float64\n",
      "sqft_living15             int64\n",
      "sqft_lot15                int64\n",
      "dtype: object\n",
      "           id  bedrooms\n",
      "0  7129300520         3\n",
      "1  6414100192         3\n",
      "2  5631500400         2\n"
     ]
    }
   ],
   "source": [
    "# Converter de String para Inteiro\n",
    "\n",
    "data['bedrooms'] = data['bedrooms'].astype(int64)\n",
    "\n",
    "print(data.dtypes)\n",
    "print(data[['id', 'bedrooms']].head(3))"
   ]
  }
 ],
 "metadata": {
  "kernelspec": {
   "display_name": "Python 3.10.8 64-bit",
   "language": "python",
   "name": "python3"
  },
  "language_info": {
   "codemirror_mode": {
    "name": "ipython",
    "version": 3
   },
   "file_extension": ".py",
   "mimetype": "text/x-python",
   "name": "python",
   "nbconvert_exporter": "python",
   "pygments_lexer": "ipython3",
   "version": "3.10.8"
  },
  "orig_nbformat": 4,
  "vscode": {
   "interpreter": {
    "hash": "21e38f573088bff287909bafd73bb598c409068f56013d3b6f521ed192e3e1ca"
   }
  }
 },
 "nbformat": 4,
 "nbformat_minor": 2
}
